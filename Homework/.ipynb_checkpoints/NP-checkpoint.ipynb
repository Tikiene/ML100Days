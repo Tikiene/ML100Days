{
 "cells": [
  {
   "cell_type": "code",
   "execution_count": 3,
   "metadata": {},
   "outputs": [
    {
     "name": "stdout",
     "output_type": "stream",
     "text": [
      "Collecting package metadata (current_repodata.json): ...working... done\n",
      "Solving environment: ...working... done\n",
      "\n",
      "## Package Plan ##\n",
      "\n",
      "  environment location: C:\\Users\\user\\anaconda3\n",
      "\n",
      "  added / updated specs:\n",
      "    - numpy\n",
      "\n",
      "\n",
      "The following packages will be downloaded:\n",
      "\n",
      "    package                    |            build\n",
      "    ---------------------------|-----------------\n",
      "    conda-4.9.2                |   py37haa95532_0         2.9 MB\n",
      "    ------------------------------------------------------------\n",
      "                                           Total:         2.9 MB\n",
      "\n",
      "The following packages will be UPDATED:\n",
      "\n",
      "  conda                                        4.8.3-py37_0 --> 4.9.2-py37haa95532_0\n",
      "\n",
      "\n",
      "\n",
      "Downloading and Extracting Packages\n",
      "\n",
      "conda-4.9.2          | 2.9 MB    |            |   0% \n",
      "conda-4.9.2          | 2.9 MB    | 1          |   1% \n",
      "conda-4.9.2          | 2.9 MB    | 2          |   3% \n",
      "conda-4.9.2          | 2.9 MB    | 5          |   6% \n",
      "conda-4.9.2          | 2.9 MB    | 8          |   8% \n",
      "conda-4.9.2          | 2.9 MB    | #          |  11% \n",
      "conda-4.9.2          | 2.9 MB    | #3         |  13% \n",
      "conda-4.9.2          | 2.9 MB    | #5         |  15% \n",
      "conda-4.9.2          | 2.9 MB    | #7         |  17% \n",
      "conda-4.9.2          | 2.9 MB    | #9         |  20% \n",
      "conda-4.9.2          | 2.9 MB    | ##2        |  22% \n",
      "conda-4.9.2          | 2.9 MB    | ##4        |  25% \n",
      "conda-4.9.2          | 2.9 MB    | ##7        |  28% \n",
      "conda-4.9.2          | 2.9 MB    | ##9        |  30% \n",
      "conda-4.9.2          | 2.9 MB    | ###2       |  32% \n",
      "conda-4.9.2          | 2.9 MB    | ###4       |  34% \n",
      "conda-4.9.2          | 2.9 MB    | ###6       |  36% \n",
      "conda-4.9.2          | 2.9 MB    | ###9       |  39% \n",
      "conda-4.9.2          | 2.9 MB    | ####1      |  41% \n",
      "conda-4.9.2          | 2.9 MB    | ####3      |  44% \n",
      "conda-4.9.2          | 2.9 MB    | ####5      |  46% \n",
      "conda-4.9.2          | 2.9 MB    | ####7      |  48% \n",
      "conda-4.9.2          | 2.9 MB    | #####      |  51% \n",
      "conda-4.9.2          | 2.9 MB    | #####3     |  53% \n",
      "conda-4.9.2          | 2.9 MB    | #####5     |  56% \n",
      "conda-4.9.2          | 2.9 MB    | #####7     |  58% \n",
      "conda-4.9.2          | 2.9 MB    | #####9     |  60% \n",
      "conda-4.9.2          | 2.9 MB    | ######3    |  64% \n",
      "conda-4.9.2          | 2.9 MB    | ######6    |  66% \n",
      "conda-4.9.2          | 2.9 MB    | ######9    |  70% \n",
      "conda-4.9.2          | 2.9 MB    | #######2   |  72% \n",
      "conda-4.9.2          | 2.9 MB    | #######4   |  75% \n",
      "conda-4.9.2          | 2.9 MB    | #######7   |  77% \n",
      "conda-4.9.2          | 2.9 MB    | #######9   |  80% \n",
      "conda-4.9.2          | 2.9 MB    | ########1  |  82% \n",
      "conda-4.9.2          | 2.9 MB    | ########3  |  84% \n",
      "conda-4.9.2          | 2.9 MB    | ########7  |  87% \n",
      "conda-4.9.2          | 2.9 MB    | ########9  |  89% \n",
      "conda-4.9.2          | 2.9 MB    | #########2 |  92% \n",
      "conda-4.9.2          | 2.9 MB    | #########4 |  94% \n",
      "conda-4.9.2          | 2.9 MB    | #########6 |  96% \n",
      "conda-4.9.2          | 2.9 MB    | #########8 |  99% \n",
      "conda-4.9.2          | 2.9 MB    | ########## | 100% \n",
      "Preparing transaction: ...working... done\n",
      "Verifying transaction: ...working... done\n",
      "Executing transaction: ...working... done\n",
      "\n",
      "Note: you may need to restart the kernel to use updated packages.\n"
     ]
    }
   ],
   "source": [
    "conda install numpy"
   ]
  },
  {
   "cell_type": "code",
   "execution_count": 6,
   "metadata": {},
   "outputs": [],
   "source": [
    "import numpy as np"
   ]
  },
  {
   "cell_type": "code",
   "execution_count": 7,
   "metadata": {},
   "outputs": [
    {
     "data": {
      "text/plain": [
       "'1.18.1'"
      ]
     },
     "execution_count": 7,
     "metadata": {},
     "output_type": "execute_result"
    }
   ],
   "source": [
    "np.__version__"
   ]
  },
  {
   "cell_type": "code",
   "execution_count": 8,
   "metadata": {},
   "outputs": [],
   "source": [
    "a= np.array([1,2,3,5,7])"
   ]
  },
  {
   "cell_type": "code",
   "execution_count": 9,
   "metadata": {},
   "outputs": [
    {
     "data": {
      "text/plain": [
       "array([1, 2, 3, 5, 7])"
      ]
     },
     "execution_count": 9,
     "metadata": {},
     "output_type": "execute_result"
    }
   ],
   "source": [
    "a"
   ]
  },
  {
   "cell_type": "code",
   "execution_count": 10,
   "metadata": {},
   "outputs": [
    {
     "data": {
      "text/plain": [
       "numpy.ndarray"
      ]
     },
     "execution_count": 10,
     "metadata": {},
     "output_type": "execute_result"
    }
   ],
   "source": [
    "type(a)"
   ]
  },
  {
   "cell_type": "code",
   "execution_count": null,
   "metadata": {},
   "outputs": [],
   "source": []
  }
 ],
 "metadata": {
  "kernelspec": {
   "display_name": "Python 3",
   "language": "python",
   "name": "python3"
  },
  "language_info": {
   "codemirror_mode": {
    "name": "ipython",
    "version": 3
   },
   "file_extension": ".py",
   "mimetype": "text/x-python",
   "name": "python",
   "nbconvert_exporter": "python",
   "pygments_lexer": "ipython3",
   "version": "3.7.6"
  }
 },
 "nbformat": 4,
 "nbformat_minor": 4
}
